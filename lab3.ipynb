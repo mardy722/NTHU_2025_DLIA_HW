{
  "cells": [
    {
      "cell_type": "markdown",
      "metadata": {
        "id": "Li0bVCTuxc6n"
      },
      "source": [
        "<div align=\"center\">\n",
        "\n",
        "#### Lab 3\n",
        "\n",
        "# National Tsing Hua University\n",
        "\n",
        "#### Spring 2025\n",
        "\n",
        "#### 11320IEEM 513600\n",
        "\n",
        "#### Deep Learning and Industrial Applications\n",
        "    \n",
        "## Lab 3: Anomaly Detection in Industrial Applications\n",
        "\n",
        "</div>"
      ]
    },
    {
      "cell_type": "markdown",
      "metadata": {
        "id": "OlvflhYwCu8Q"
      },
      "source": [
        "### Introduction\n",
        "\n",
        "In today's industrial landscape, the ability to detect anomalies in manufacturing processes and products is critical for maintaining quality, efficiency, and safety. This lab focuses on leveraging deep learning techniques for anomaly detection in various industrial applications, using the MVTEC Anomaly Detection Dataset. By employing ImageNet-pretrained models available in torchvision, students will gain hands-on experience in classfying defects and irregularities across different types of industrial products.\n",
        "\n",
        "Throughout this lab, you'll be involved in the following key activities:\n",
        "- Explore and process the MVTec Anomaly Detection Dataset.\n",
        "- Apply ImageNet-pretrained models from [Torchvision](https://pytorch.org/vision/stable/models.html) to detect anomalies in industrial products.\n",
        "- Evaluate the performance of the models to understand their effectiveness in real-world industrial applications.\n",
        "\n",
        "### Objectives\n",
        "\n",
        "- Understand the principles of anomaly detection in the context of industrial applications.\n",
        "- Learn how to implement and utilize ImageNet-pretrained models for detecting anomalies.\n",
        "- Analyze and interpret the results of the anomaly detection models to assess their practicality in industrial settings.\n",
        "\n",
        "### Dataset\n",
        "\n",
        "The MVTec AD Dataset is a comprehensive collection of high-resolution images across different categories of industrial products, such as bottles, cables, and metal nuts, each with various types of defects. This dataset is pivotal for developing and benchmarking anomaly detection algorithms. You can download our lab's dataset [here](https://drive.google.com/file/d/19600hUOpx0hl78TdpdH0oyy-gGTk_F_o/view?usp=share_link). You can drop downloaded data and drop to colab, or you can put into yor google drive.\n",
        "\n",
        "### References\n",
        "- [MVTec AD Dataset](https://www.kaggle.com/datasets/ipythonx/mvtec-ad/data) for the dataset used in this lab.\n",
        "- [Torchvision Models](https://pytorch.org/vision/stable/models.html) for accessing ImageNet-pretrained models to be used in anomaly detection tasks.\n",
        "- [State-of-the-Art Anomaly Detection on MVTec AD](https://paperswithcode.com/sota/anomaly-detection-on-mvtec-ad) for insights into the latest benchmarks and methodologies in anomaly detection applied to the MVTec AD dataset.\n",
        "- [CVPR 2019: MVTec AD — A Comprehensive Real-World Dataset for Unsupervised Anomaly Detection] for the original paper of MVTec AD dataset."
      ]
    },
    {
      "cell_type": "code",
      "execution_count": 1,
      "metadata": {
        "id": "GuiEw1L0Cu8Q"
      },
      "outputs": [],
      "source": [
        "import glob\n",
        "import matplotlib.pyplot as plt\n",
        "import random\n",
        "from tqdm.auto import tqdm\n",
        "import cv2\n",
        "import numpy as np"
      ]
    },
    {
      "cell_type": "code",
      "execution_count": 2,
      "metadata": {
        "id": "qvLTTCGsCu8R",
        "colab": {
          "base_uri": "https://localhost:8080/"
        },
        "outputId": "14dd76cf-4da2-4cce-d99b-d37e6590cd50"
      },
      "outputs": [
        {
          "output_type": "stream",
          "name": "stdout",
          "text": [
            "Mounted at /content/drive\n",
            "['ground_truth', 'test', 'license.txt', 'readme.txt', 'train']\n"
          ]
        }
      ],
      "source": [
        "from google.colab import drive\n",
        "import zipfile\n",
        "import os\n",
        "drive.mount('/content/drive')\n",
        "#!tar -xvf '/content/drive/MyDrive/Colab Notebooks/Deep Learning for Industrial Application /HW3/cable.tar.gz' cable\n",
        "\n",
        "\n",
        "# Unzip the cable dataset again after reset\n",
        "cable_zip_path = \"/content/drive/MyDrive/Colab Notebooks/Deep Learning for Industrial Application /HW3/cable.zip\"\n",
        "cable_extract_path = \"/content/cable\"\n",
        "\n",
        "with zipfile.ZipFile(cable_zip_path, 'r') as zip_ref:\n",
        "    zip_ref.extractall(cable_extract_path)\n",
        "\n",
        "# List contents to confirm structure\n",
        "print(os.listdir(cable_extract_path))"
      ]
    },
    {
      "cell_type": "code",
      "execution_count": 3,
      "metadata": {
        "id": "yXfjTWKUCu8R",
        "colab": {
          "base_uri": "https://localhost:8080/"
        },
        "outputId": "c81d1620-b609-4f3c-9527-feeecf5b7ee9"
      },
      "outputs": [
        {
          "output_type": "stream",
          "name": "stdout",
          "text": [
            "Loaded 224 train/good images\n",
            "Loaded 150 test images\n"
          ]
        }
      ],
      "source": [
        "# Update glob path to match extraction location\n",
        "file_paths = glob.glob('cable/*/*/*.png')\n",
        "file_paths = sorted(file_paths)\n",
        "\n",
        "\n",
        "# Load and preprocess train/good images\n",
        "train_good_paths = glob.glob('/content/cable/train/good/*.png')\n",
        "\n",
        "def load_images(paths, size=(64, 64)):\n",
        "    imgs = []\n",
        "    for p in paths:\n",
        "        img = cv2.imread(p)\n",
        "        img = cv2.cvtColor(img, cv2.COLOR_BGR2RGB)\n",
        "        img = cv2.resize(img, size)\n",
        "        img = img.astype(np.float32) / 255.0\n",
        "        imgs.append(img)\n",
        "    return np.array(imgs)\n",
        "train_imgs = load_images(train_good_paths)\n",
        "print(f\"Loaded {len(train_imgs)} train/good images\")\n",
        "\n",
        "test_paths = glob.glob('/content/cable/test/*/*.png')\n",
        "test_imgs = load_images(test_paths)  # 使用之前定義的 load_images function\n",
        "print(f\"Loaded {len(test_imgs)} test images\")\n"
      ]
    },
    {
      "cell_type": "markdown",
      "metadata": {
        "id": "w-1PsC--M7pT"
      },
      "source": [
        "## A. Data Loading and Preprocessing"
      ]
    },
    {
      "cell_type": "code",
      "source": [
        "import torch\n",
        "from torch.utils.data import DataLoader, TensorDataset, random_split\n",
        "import numpy as np\n",
        "\n",
        "# Convert to torch tensor\n",
        "x_train_tensor = torch.tensor(train_imgs.transpose(0, 3, 1, 2))  # NHWC -> NCHW\n",
        "train_dataset = TensorDataset(x_train_tensor)\n",
        "train_loader = DataLoader(train_dataset, batch_size=32, shuffle=True)\n",
        "\n",
        "x_test_tensor = torch.tensor(test_imgs.transpose(0, 3, 1, 2))\n",
        "test_dataset = TensorDataset(x_test_tensor)\n",
        "test_loader = DataLoader(test_dataset, batch_size=32, shuffle=False)"
      ],
      "metadata": {
        "id": "AF8CI6GJRNE6"
      },
      "execution_count": 4,
      "outputs": []
    },
    {
      "cell_type": "markdown",
      "metadata": {
        "id": "oaLGtT28xc6s"
      },
      "source": [
        "## B. Defining Neural Networks"
      ]
    },
    {
      "cell_type": "code",
      "source": [
        "# Q2 - Attempt 1\n",
        "# Define a simple convolutional autoencoder\n",
        "import torch.nn as nn\n",
        "\n",
        "class ConvAutoencoder(nn.Module):\n",
        "    def __init__(self):\n",
        "        super(ConvAutoencoder, self).__init__()\n",
        "        self.encoder = nn.Sequential(\n",
        "            nn.Conv2d(3, 32, 3, stride=2, padding=1),  # 64x64\n",
        "            nn.ReLU(),\n",
        "            nn.Conv2d(32, 64, 3, stride=2, padding=1), # 32x32\n",
        "            nn.ReLU(),\n",
        "            nn.Conv2d(64, 128, 3, stride=2, padding=1),# 16x16\n",
        "            nn.ReLU()\n",
        "        )\n",
        "        self.decoder = nn.Sequential(\n",
        "            nn.ConvTranspose2d(128, 64, 3, stride=2, padding=1, output_padding=1),\n",
        "            nn.ReLU(),\n",
        "            nn.ConvTranspose2d(64, 32, 3, stride=2, padding=1, output_padding=1),\n",
        "            nn.ReLU(),\n",
        "            nn.ConvTranspose2d(32, 3, 3, stride=2, padding=1, output_padding=1),\n",
        "            nn.Sigmoid()\n",
        "        )\n",
        "    def forward(self, x):\n",
        "        return self.decoder(self.encoder(x))\n",
        "\n",
        "model_attempt1 = ConvAutoencoder().to(\"cuda\" if torch.cuda.is_available() else \"cpu\")\n"
      ],
      "metadata": {
        "id": "-8htf7fASTzs"
      },
      "execution_count": 5,
      "outputs": []
    },
    {
      "cell_type": "code",
      "source": [
        "# Q2 - Attempt 2: Autoencoder with Data Augmentation\n",
        "from torchvision import transforms\n",
        "from torch.utils.data import Dataset\n",
        "from PIL import Image\n",
        "class AugmentedImageDataset(Dataset):\n",
        "    def __init__(self, images, transform=None):\n",
        "        self.images = images\n",
        "        self.transform = transform\n",
        "\n",
        "    def __len__(self):\n",
        "        return len(self.images)\n",
        "\n",
        "    def __getitem__(self, idx):\n",
        "        img = self.images[idx]\n",
        "        img = (img * 255).astype(np.uint8)  # to [0,255] for PIL\n",
        "        img = Image.fromarray(img)\n",
        "        if self.transform:\n",
        "            img = self.transform(img)\n",
        "        return img\n",
        "\n",
        "# Define augmentation\n",
        "aug_transform = transforms.Compose([\n",
        "    transforms.RandomHorizontalFlip(),\n",
        "    transforms.RandomRotation(15),\n",
        "    transforms.ToTensor()\n",
        "])\n",
        "\n",
        "model_attempt2 = ConvAutoencoder().to(\"cuda\" if torch.cuda.is_available() else \"cpu\")\n",
        "aug_dataset = AugmentedImageDataset(train_imgs, transform=aug_transform)\n",
        "aug_loader = DataLoader(aug_dataset, batch_size=32, shuffle=True)"
      ],
      "metadata": {
        "id": "cYxn-zSJuPYQ"
      },
      "execution_count": 6,
      "outputs": []
    },
    {
      "cell_type": "code",
      "source": [
        "# Q2 - Attempt 3: ResNet18 encoder with custom decoder\n",
        "\n",
        "import torchvision.models as models\n",
        "\n",
        "class ResNetAE(nn.Module):\n",
        "    def __init__(self):\n",
        "        super(ResNetAE, self).__init__()\n",
        "        # Load pre-trained resnet18 and remove classifier\n",
        "        resnet = models.resnet18(pretrained=True)\n",
        "        self.encoder = nn.Sequential(*list(resnet.children())[:-2])  # keep up to layer4 (output: 512x4x4 for 128x128)\n",
        "\n",
        "        self.decoder = nn.Sequential(\n",
        "            nn.ConvTranspose2d(512, 256, 3, stride=2, padding=1, output_padding=1), # 8x8\n",
        "            nn.ReLU(),\n",
        "            nn.ConvTranspose2d(256, 128, 3, stride=2, padding=1, output_padding=1), # 16x16\n",
        "            nn.ReLU(),\n",
        "            nn.ConvTranspose2d(128, 64, 3, stride=2, padding=1, output_padding=1),  # 32x32\n",
        "            nn.ReLU(),\n",
        "            nn.ConvTranspose2d(64, 32, 3, stride=2, padding=1, output_padding=1),   # 64x64\n",
        "            nn.ReLU(),\n",
        "            nn.ConvTranspose2d(32, 3, 3, stride=2, padding=1, output_padding=1),    # 128x128\n",
        "            nn.Sigmoid()\n",
        "        )\n",
        "\n",
        "    def forward(self, x):\n",
        "        z = self.encoder(x)\n",
        "        x_hat = self.decoder(z)\n",
        "        return x_hat\n",
        "\n",
        "# Define device\n",
        "device = torch.device(\"cuda\" if torch.cuda.is_available() else \"cpu\")\n",
        "\n",
        "# Create model\n",
        "model_attempt3 = ResNetAE().to(device)"
      ],
      "metadata": {
        "id": "-N9iRyB025np",
        "colab": {
          "base_uri": "https://localhost:8080/"
        },
        "outputId": "6b6ae1dd-a2cd-4713-d9c4-1bce05fd375c"
      },
      "execution_count": 7,
      "outputs": [
        {
          "output_type": "stream",
          "name": "stderr",
          "text": [
            "/usr/local/lib/python3.11/dist-packages/torchvision/models/_utils.py:208: UserWarning: The parameter 'pretrained' is deprecated since 0.13 and may be removed in the future, please use 'weights' instead.\n",
            "  warnings.warn(\n",
            "/usr/local/lib/python3.11/dist-packages/torchvision/models/_utils.py:223: UserWarning: Arguments other than a weight enum or `None` for 'weights' are deprecated since 0.13 and may be removed in the future. The current behavior is equivalent to passing `weights=ResNet18_Weights.IMAGENET1K_V1`. You can also use `weights=ResNet18_Weights.DEFAULT` to get the most up-to-date weights.\n",
            "  warnings.warn(msg)\n",
            "Downloading: \"https://download.pytorch.org/models/resnet18-f37072fd.pth\" to /root/.cache/torch/hub/checkpoints/resnet18-f37072fd.pth\n",
            "100%|██████████| 44.7M/44.7M [00:00<00:00, 195MB/s]\n"
          ]
        }
      ]
    },
    {
      "cell_type": "code",
      "source": [
        "# Q2 - Attempt 4: reset model\n",
        "\n",
        "model_attempt4 = ResNetAE().to(device)"
      ],
      "metadata": {
        "id": "G2uc2dhN-qOc"
      },
      "execution_count": 8,
      "outputs": []
    },
    {
      "cell_type": "markdown",
      "metadata": {
        "id": "nvLTU-IfZLqn"
      },
      "source": [
        "## C. Training the Neural Network"
      ]
    },
    {
      "cell_type": "code",
      "source": [
        "# Q2-attempt1 Train the autoencoder\n",
        "device = torch.device(\"cuda\" if torch.cuda.is_available() else \"cpu\")\n",
        "criterion = nn.MSELoss()\n",
        "optimizer = torch.optim.Adam(model_attempt1.parameters(), lr=1e-3)\n",
        "\n",
        "num_epochs = 50\n",
        "train_losses = []\n",
        "test_losses = []\n",
        "model_attempt1.train()\n",
        "\n",
        "for epoch in range(num_epochs):\n",
        "    epoch_train_loss = 0\n",
        "    for batch in train_loader:\n",
        "        imgs = batch[0].to(device)\n",
        "        outputs = model_attempt1(imgs)\n",
        "        loss = criterion(outputs, imgs)\n",
        "        optimizer.zero_grad()\n",
        "        loss.backward()\n",
        "        optimizer.step()\n",
        "        epoch_train_loss += loss.item()\n",
        "\n",
        "    # Evaluate test loss\n",
        "    model_attempt1.eval()\n",
        "    epoch_test_loss = 0\n",
        "    with torch.no_grad():\n",
        "        for batch in test_loader:\n",
        "            imgs = batch[0].to(device)\n",
        "            outputs = model_attempt1(imgs)\n",
        "            loss = criterion(outputs, imgs)\n",
        "            epoch_test_loss += loss.item()\n",
        "    model_attempt1.train()\n",
        "\n",
        "    train_avg = epoch_train_loss / len(train_loader)\n",
        "    test_avg = epoch_test_loss / len(test_loader)\n",
        "    train_losses.append(train_avg)\n",
        "    test_losses.append(test_avg)\n",
        "\n",
        "    print(f\"Epoch {epoch+1} | Train Loss: {train_avg:.4f} | Test Loss: {test_avg:.4f}\")"
      ],
      "metadata": {
        "colab": {
          "base_uri": "https://localhost:8080/"
        },
        "id": "_i25eswzSeIH",
        "outputId": "feefd9d4-ac7a-48fa-afa3-f4bd9386c18c"
      },
      "execution_count": 9,
      "outputs": [
        {
          "output_type": "stream",
          "name": "stdout",
          "text": [
            "Epoch 1 | Train Loss: 0.0591 | Test Loss: 0.0545\n",
            "Epoch 2 | Train Loss: 0.0531 | Test Loss: 0.0501\n",
            "Epoch 3 | Train Loss: 0.0494 | Test Loss: 0.0472\n",
            "Epoch 4 | Train Loss: 0.0462 | Test Loss: 0.0437\n",
            "Epoch 5 | Train Loss: 0.0419 | Test Loss: 0.0387\n",
            "Epoch 6 | Train Loss: 0.0367 | Test Loss: 0.0347\n",
            "Epoch 7 | Train Loss: 0.0337 | Test Loss: 0.0326\n",
            "Epoch 8 | Train Loss: 0.0313 | Test Loss: 0.0294\n",
            "Epoch 9 | Train Loss: 0.0277 | Test Loss: 0.0253\n",
            "Epoch 10 | Train Loss: 0.0237 | Test Loss: 0.0210\n",
            "Epoch 11 | Train Loss: 0.0202 | Test Loss: 0.0182\n",
            "Epoch 12 | Train Loss: 0.0178 | Test Loss: 0.0163\n",
            "Epoch 13 | Train Loss: 0.0162 | Test Loss: 0.0151\n",
            "Epoch 14 | Train Loss: 0.0154 | Test Loss: 0.0142\n",
            "Epoch 15 | Train Loss: 0.0144 | Test Loss: 0.0137\n",
            "Epoch 16 | Train Loss: 0.0138 | Test Loss: 0.0131\n",
            "Epoch 17 | Train Loss: 0.0132 | Test Loss: 0.0124\n",
            "Epoch 18 | Train Loss: 0.0127 | Test Loss: 0.0119\n",
            "Epoch 19 | Train Loss: 0.0123 | Test Loss: 0.0115\n",
            "Epoch 20 | Train Loss: 0.0118 | Test Loss: 0.0112\n",
            "Epoch 21 | Train Loss: 0.0115 | Test Loss: 0.0108\n",
            "Epoch 22 | Train Loss: 0.0112 | Test Loss: 0.0104\n",
            "Epoch 23 | Train Loss: 0.0108 | Test Loss: 0.0103\n",
            "Epoch 24 | Train Loss: 0.0111 | Test Loss: 0.0102\n",
            "Epoch 25 | Train Loss: 0.0105 | Test Loss: 0.0097\n",
            "Epoch 26 | Train Loss: 0.0101 | Test Loss: 0.0095\n",
            "Epoch 27 | Train Loss: 0.0099 | Test Loss: 0.0093\n",
            "Epoch 28 | Train Loss: 0.0097 | Test Loss: 0.0090\n",
            "Epoch 29 | Train Loss: 0.0094 | Test Loss: 0.0088\n",
            "Epoch 30 | Train Loss: 0.0093 | Test Loss: 0.0087\n",
            "Epoch 31 | Train Loss: 0.0093 | Test Loss: 0.0086\n",
            "Epoch 32 | Train Loss: 0.0090 | Test Loss: 0.0084\n",
            "Epoch 33 | Train Loss: 0.0088 | Test Loss: 0.0083\n",
            "Epoch 34 | Train Loss: 0.0087 | Test Loss: 0.0082\n",
            "Epoch 35 | Train Loss: 0.0091 | Test Loss: 0.0081\n",
            "Epoch 36 | Train Loss: 0.0087 | Test Loss: 0.0082\n",
            "Epoch 37 | Train Loss: 0.0085 | Test Loss: 0.0079\n",
            "Epoch 38 | Train Loss: 0.0083 | Test Loss: 0.0079\n",
            "Epoch 39 | Train Loss: 0.0082 | Test Loss: 0.0077\n",
            "Epoch 40 | Train Loss: 0.0082 | Test Loss: 0.0077\n",
            "Epoch 41 | Train Loss: 0.0080 | Test Loss: 0.0075\n",
            "Epoch 42 | Train Loss: 0.0079 | Test Loss: 0.0074\n",
            "Epoch 43 | Train Loss: 0.0079 | Test Loss: 0.0074\n",
            "Epoch 44 | Train Loss: 0.0083 | Test Loss: 0.0084\n",
            "Epoch 45 | Train Loss: 0.0084 | Test Loss: 0.0074\n",
            "Epoch 46 | Train Loss: 0.0080 | Test Loss: 0.0073\n",
            "Epoch 47 | Train Loss: 0.0079 | Test Loss: 0.0073\n",
            "Epoch 48 | Train Loss: 0.0077 | Test Loss: 0.0074\n",
            "Epoch 49 | Train Loss: 0.0077 | Test Loss: 0.0071\n",
            "Epoch 50 | Train Loss: 0.0076 | Test Loss: 0.0071\n"
          ]
        }
      ]
    },
    {
      "cell_type": "code",
      "source": [
        "# Q2-attempt2 Train autoencoder with augmented data\n",
        "train_losses_aug = []\n",
        "test_losses_aug = []\n",
        "\n",
        "optimizer = torch.optim.Adam(model_attempt2.parameters(), lr=1e-3)\n",
        "\n",
        "model_attempt2.train()\n",
        "for epoch in range(num_epochs):\n",
        "    epoch_train_loss = 0\n",
        "    for imgs in aug_loader:\n",
        "        imgs = imgs.to(device)\n",
        "        outputs = model_attempt2(imgs)\n",
        "        loss = criterion(outputs, imgs)\n",
        "        optimizer.zero_grad()\n",
        "        loss.backward()\n",
        "        optimizer.step()\n",
        "        epoch_train_loss += loss.item()\n",
        "\n",
        "    # Evaluate on test set\n",
        "    model_attempt2.eval()\n",
        "    epoch_test_loss = 0\n",
        "    with torch.no_grad():\n",
        "        for batch in test_loader:\n",
        "            imgs = batch[0].to(device)\n",
        "            outputs = model_attempt2(imgs)\n",
        "            loss = criterion(outputs, imgs)\n",
        "            epoch_test_loss += loss.item()\n",
        "    model_attempt2.train()\n",
        "\n",
        "    train_avg = epoch_train_loss / len(aug_loader)\n",
        "    test_avg = epoch_test_loss / len(test_loader)\n",
        "    train_losses_aug.append(train_avg)\n",
        "    test_losses_aug.append(test_avg)\n",
        "\n",
        "    print(f\"[Aug] Epoch {epoch+1} | Train Loss: {train_avg:.4f} | Test Loss: {test_avg:.4f}\")"
      ],
      "metadata": {
        "colab": {
          "base_uri": "https://localhost:8080/"
        },
        "id": "V6rUYWEuuoRD",
        "outputId": "2a329be7-0498-4eee-885f-c984e7ea9b8e"
      },
      "execution_count": 10,
      "outputs": [
        {
          "output_type": "stream",
          "name": "stdout",
          "text": [
            "[Aug] Epoch 1 | Train Loss: 0.0580 | Test Loss: 0.0467\n",
            "[Aug] Epoch 2 | Train Loss: 0.0553 | Test Loss: 0.0440\n",
            "[Aug] Epoch 3 | Train Loss: 0.0520 | Test Loss: 0.0417\n",
            "[Aug] Epoch 4 | Train Loss: 0.0468 | Test Loss: 0.0375\n",
            "[Aug] Epoch 5 | Train Loss: 0.0404 | Test Loss: 0.0353\n",
            "[Aug] Epoch 6 | Train Loss: 0.0371 | Test Loss: 0.0319\n",
            "[Aug] Epoch 7 | Train Loss: 0.0329 | Test Loss: 0.0284\n",
            "[Aug] Epoch 8 | Train Loss: 0.0291 | Test Loss: 0.0247\n",
            "[Aug] Epoch 9 | Train Loss: 0.0255 | Test Loss: 0.0220\n",
            "[Aug] Epoch 10 | Train Loss: 0.0225 | Test Loss: 0.0191\n",
            "[Aug] Epoch 11 | Train Loss: 0.0201 | Test Loss: 0.0173\n",
            "[Aug] Epoch 12 | Train Loss: 0.0184 | Test Loss: 0.0156\n",
            "[Aug] Epoch 13 | Train Loss: 0.0172 | Test Loss: 0.0145\n",
            "[Aug] Epoch 14 | Train Loss: 0.0163 | Test Loss: 0.0139\n",
            "[Aug] Epoch 15 | Train Loss: 0.0156 | Test Loss: 0.0135\n",
            "[Aug] Epoch 16 | Train Loss: 0.0151 | Test Loss: 0.0130\n",
            "[Aug] Epoch 17 | Train Loss: 0.0147 | Test Loss: 0.0126\n",
            "[Aug] Epoch 18 | Train Loss: 0.0143 | Test Loss: 0.0122\n",
            "[Aug] Epoch 19 | Train Loss: 0.0140 | Test Loss: 0.0119\n",
            "[Aug] Epoch 20 | Train Loss: 0.0136 | Test Loss: 0.0116\n",
            "[Aug] Epoch 21 | Train Loss: 0.0140 | Test Loss: 0.0114\n",
            "[Aug] Epoch 22 | Train Loss: 0.0135 | Test Loss: 0.0113\n",
            "[Aug] Epoch 23 | Train Loss: 0.0130 | Test Loss: 0.0110\n",
            "[Aug] Epoch 24 | Train Loss: 0.0127 | Test Loss: 0.0109\n",
            "[Aug] Epoch 25 | Train Loss: 0.0124 | Test Loss: 0.0106\n",
            "[Aug] Epoch 26 | Train Loss: 0.0122 | Test Loss: 0.0103\n",
            "[Aug] Epoch 27 | Train Loss: 0.0119 | Test Loss: 0.0102\n",
            "[Aug] Epoch 28 | Train Loss: 0.0116 | Test Loss: 0.0099\n",
            "[Aug] Epoch 29 | Train Loss: 0.0114 | Test Loss: 0.0098\n",
            "[Aug] Epoch 30 | Train Loss: 0.0112 | Test Loss: 0.0095\n",
            "[Aug] Epoch 31 | Train Loss: 0.0110 | Test Loss: 0.0094\n",
            "[Aug] Epoch 32 | Train Loss: 0.0108 | Test Loss: 0.0093\n",
            "[Aug] Epoch 33 | Train Loss: 0.0106 | Test Loss: 0.0091\n",
            "[Aug] Epoch 34 | Train Loss: 0.0105 | Test Loss: 0.0090\n",
            "[Aug] Epoch 35 | Train Loss: 0.0104 | Test Loss: 0.0091\n",
            "[Aug] Epoch 36 | Train Loss: 0.0103 | Test Loss: 0.0088\n",
            "[Aug] Epoch 37 | Train Loss: 0.0101 | Test Loss: 0.0086\n",
            "[Aug] Epoch 38 | Train Loss: 0.0100 | Test Loss: 0.0086\n",
            "[Aug] Epoch 39 | Train Loss: 0.0098 | Test Loss: 0.0085\n",
            "[Aug] Epoch 40 | Train Loss: 0.0099 | Test Loss: 0.0083\n",
            "[Aug] Epoch 41 | Train Loss: 0.0096 | Test Loss: 0.0082\n",
            "[Aug] Epoch 42 | Train Loss: 0.0095 | Test Loss: 0.0081\n",
            "[Aug] Epoch 43 | Train Loss: 0.0094 | Test Loss: 0.0081\n",
            "[Aug] Epoch 44 | Train Loss: 0.0093 | Test Loss: 0.0084\n",
            "[Aug] Epoch 45 | Train Loss: 0.0108 | Test Loss: 0.0081\n",
            "[Aug] Epoch 46 | Train Loss: 0.0097 | Test Loss: 0.0085\n",
            "[Aug] Epoch 47 | Train Loss: 0.0095 | Test Loss: 0.0080\n",
            "[Aug] Epoch 48 | Train Loss: 0.0093 | Test Loss: 0.0078\n",
            "[Aug] Epoch 49 | Train Loss: 0.0091 | Test Loss: 0.0077\n",
            "[Aug] Epoch 50 | Train Loss: 0.0090 | Test Loss: 0.0077\n"
          ]
        }
      ]
    },
    {
      "cell_type": "code",
      "source": [
        "# Q2-Attempt3 Train ResNet-based autoencoder\n",
        "train_losses_resnet = []\n",
        "test_losses_resnet = []\n",
        "\n",
        "optimizer = torch.optim.Adam(model_attempt3.parameters(), lr=1e-3)\n",
        "\n",
        "model_attempt3.train()\n",
        "for epoch in range(num_epochs):\n",
        "    epoch_train_loss = 0\n",
        "    for batch in train_loader:\n",
        "        imgs = batch[0].to(device)\n",
        "        outputs = model_attempt3(imgs)\n",
        "        loss = criterion(outputs, imgs)\n",
        "        optimizer.zero_grad()\n",
        "        loss.backward()\n",
        "        optimizer.step()\n",
        "        epoch_train_loss += loss.item()\n",
        "\n",
        "    # Evaluate test loss\n",
        "    model_attempt3.eval()\n",
        "    epoch_test_loss = 0\n",
        "    with torch.no_grad():\n",
        "        for batch in test_loader:\n",
        "            imgs = batch[0].to(device)\n",
        "            outputs = model_attempt3(imgs)\n",
        "            loss = criterion(outputs, imgs)\n",
        "            epoch_test_loss += loss.item()\n",
        "    model_attempt3.train()\n",
        "\n",
        "    train_avg = epoch_train_loss / len(train_loader)\n",
        "    test_avg = epoch_test_loss / len(test_loader)\n",
        "    train_losses_resnet.append(train_avg)\n",
        "    test_losses_resnet.append(test_avg)\n",
        "\n",
        "    print(f\"[ResNet18] Epoch {epoch+1} | Train Loss: {train_avg:.4f} | Test Loss: {test_avg:.4f}\")"
      ],
      "metadata": {
        "colab": {
          "base_uri": "https://localhost:8080/"
        },
        "id": "PMRdlYYt3SEA",
        "outputId": "e36480ff-24b1-4c63-a79b-bc42374c3360"
      },
      "execution_count": 11,
      "outputs": [
        {
          "output_type": "stream",
          "name": "stdout",
          "text": [
            "[ResNet18] Epoch 1 | Train Loss: 0.0486 | Test Loss: 0.0423\n",
            "[ResNet18] Epoch 2 | Train Loss: 0.0383 | Test Loss: 0.0356\n",
            "[ResNet18] Epoch 3 | Train Loss: 0.0321 | Test Loss: 0.0298\n",
            "[ResNet18] Epoch 4 | Train Loss: 0.0265 | Test Loss: 0.0237\n",
            "[ResNet18] Epoch 5 | Train Loss: 0.0216 | Test Loss: 0.0199\n",
            "[ResNet18] Epoch 6 | Train Loss: 0.0190 | Test Loss: 0.0184\n",
            "[ResNet18] Epoch 7 | Train Loss: 0.0176 | Test Loss: 0.0172\n",
            "[ResNet18] Epoch 8 | Train Loss: 0.0166 | Test Loss: 0.0167\n",
            "[ResNet18] Epoch 9 | Train Loss: 0.0162 | Test Loss: 0.0161\n",
            "[ResNet18] Epoch 10 | Train Loss: 0.0159 | Test Loss: 0.0159\n",
            "[ResNet18] Epoch 11 | Train Loss: 0.0153 | Test Loss: 0.0160\n",
            "[ResNet18] Epoch 12 | Train Loss: 0.0150 | Test Loss: 0.0155\n",
            "[ResNet18] Epoch 13 | Train Loss: 0.0148 | Test Loss: 0.0152\n",
            "[ResNet18] Epoch 14 | Train Loss: 0.0145 | Test Loss: 0.0154\n",
            "[ResNet18] Epoch 15 | Train Loss: 0.0143 | Test Loss: 0.0152\n",
            "[ResNet18] Epoch 16 | Train Loss: 0.0142 | Test Loss: 0.0152\n",
            "[ResNet18] Epoch 17 | Train Loss: 0.0139 | Test Loss: 0.0151\n",
            "[ResNet18] Epoch 18 | Train Loss: 0.0138 | Test Loss: 0.0148\n",
            "[ResNet18] Epoch 19 | Train Loss: 0.0137 | Test Loss: 0.0146\n",
            "[ResNet18] Epoch 20 | Train Loss: 0.0133 | Test Loss: 0.0148\n",
            "[ResNet18] Epoch 21 | Train Loss: 0.0130 | Test Loss: 0.0145\n",
            "[ResNet18] Epoch 22 | Train Loss: 0.0127 | Test Loss: 0.0148\n",
            "[ResNet18] Epoch 23 | Train Loss: 0.0125 | Test Loss: 0.0142\n",
            "[ResNet18] Epoch 24 | Train Loss: 0.0124 | Test Loss: 0.0143\n",
            "[ResNet18] Epoch 25 | Train Loss: 0.0121 | Test Loss: 0.0145\n",
            "[ResNet18] Epoch 26 | Train Loss: 0.0120 | Test Loss: 0.0141\n",
            "[ResNet18] Epoch 27 | Train Loss: 0.0119 | Test Loss: 0.0141\n",
            "[ResNet18] Epoch 28 | Train Loss: 0.0116 | Test Loss: 0.0143\n",
            "[ResNet18] Epoch 29 | Train Loss: 0.0115 | Test Loss: 0.0137\n",
            "[ResNet18] Epoch 30 | Train Loss: 0.0113 | Test Loss: 0.0139\n",
            "[ResNet18] Epoch 31 | Train Loss: 0.0111 | Test Loss: 0.0141\n",
            "[ResNet18] Epoch 32 | Train Loss: 0.0111 | Test Loss: 0.0139\n",
            "[ResNet18] Epoch 33 | Train Loss: 0.0110 | Test Loss: 0.0136\n",
            "[ResNet18] Epoch 34 | Train Loss: 0.0109 | Test Loss: 0.0134\n",
            "[ResNet18] Epoch 35 | Train Loss: 0.0109 | Test Loss: 0.0135\n",
            "[ResNet18] Epoch 36 | Train Loss: 0.0106 | Test Loss: 0.0132\n",
            "[ResNet18] Epoch 37 | Train Loss: 0.0104 | Test Loss: 0.0133\n",
            "[ResNet18] Epoch 38 | Train Loss: 0.0102 | Test Loss: 0.0134\n",
            "[ResNet18] Epoch 39 | Train Loss: 0.0101 | Test Loss: 0.0134\n",
            "[ResNet18] Epoch 40 | Train Loss: 0.0100 | Test Loss: 0.0133\n",
            "[ResNet18] Epoch 41 | Train Loss: 0.0101 | Test Loss: 0.0129\n",
            "[ResNet18] Epoch 42 | Train Loss: 0.0099 | Test Loss: 0.0131\n",
            "[ResNet18] Epoch 43 | Train Loss: 0.0098 | Test Loss: 0.0139\n",
            "[ResNet18] Epoch 44 | Train Loss: 0.0096 | Test Loss: 0.0127\n",
            "[ResNet18] Epoch 45 | Train Loss: 0.0094 | Test Loss: 0.0133\n",
            "[ResNet18] Epoch 46 | Train Loss: 0.0094 | Test Loss: 0.0128\n",
            "[ResNet18] Epoch 47 | Train Loss: 0.0092 | Test Loss: 0.0130\n",
            "[ResNet18] Epoch 48 | Train Loss: 0.0092 | Test Loss: 0.0130\n",
            "[ResNet18] Epoch 49 | Train Loss: 0.0092 | Test Loss: 0.0135\n",
            "[ResNet18] Epoch 50 | Train Loss: 0.0091 | Test Loss: 0.0129\n"
          ]
        }
      ]
    },
    {
      "cell_type": "code",
      "source": [
        "# Q2-Attempt4 base on attempt3, change the learning rate\n",
        "train_losses_resnet_attempt4 = []\n",
        "test_losses_resnet_attempt4 = []\n",
        "\n",
        "optimizer = torch.optim.Adam(model_attempt4.parameters(), lr=5*1e-4)\n",
        "\n",
        "model_attempt4.train()\n",
        "for epoch in range(num_epochs):\n",
        "    epoch_train_loss = 0\n",
        "    for batch in train_loader:\n",
        "        imgs = batch[0].to(device)\n",
        "        outputs = model_attempt4(imgs)\n",
        "        loss = criterion(outputs, imgs)\n",
        "        optimizer.zero_grad()\n",
        "        loss.backward()\n",
        "        optimizer.step()\n",
        "        epoch_train_loss += loss.item()\n",
        "\n",
        "    # Evaluate test loss\n",
        "    model_attempt4.eval()\n",
        "    epoch_test_loss = 0\n",
        "    with torch.no_grad():\n",
        "        for batch in test_loader:\n",
        "            imgs = batch[0].to(device)\n",
        "            outputs = model_attempt4(imgs)\n",
        "            loss = criterion(outputs, imgs)\n",
        "            epoch_test_loss += loss.item()\n",
        "    model_attempt4.train()\n",
        "\n",
        "    train_avg = epoch_train_loss / len(train_loader)\n",
        "    test_avg = epoch_test_loss / len(test_loader)\n",
        "    train_losses_resnet_attempt4.append(train_avg)\n",
        "    test_losses_resnet_attempt4.append(test_avg)\n",
        "\n",
        "    print(f\"[ResNet18] Epoch {epoch+1} | Train Loss: {train_avg:.4f} | Test Loss: {test_avg:.4f}\")"
      ],
      "metadata": {
        "colab": {
          "base_uri": "https://localhost:8080/"
        },
        "id": "zOFRzHaQ7YKn",
        "outputId": "1a7f226c-030a-45d0-8b10-6190207b9925"
      },
      "execution_count": 12,
      "outputs": [
        {
          "output_type": "stream",
          "name": "stdout",
          "text": [
            "[ResNet18] Epoch 1 | Train Loss: 0.0540 | Test Loss: 0.0500\n",
            "[ResNet18] Epoch 2 | Train Loss: 0.0448 | Test Loss: 0.0392\n",
            "[ResNet18] Epoch 3 | Train Loss: 0.0363 | Test Loss: 0.0328\n",
            "[ResNet18] Epoch 4 | Train Loss: 0.0302 | Test Loss: 0.0281\n",
            "[ResNet18] Epoch 5 | Train Loss: 0.0260 | Test Loss: 0.0245\n",
            "[ResNet18] Epoch 6 | Train Loss: 0.0229 | Test Loss: 0.0218\n",
            "[ResNet18] Epoch 7 | Train Loss: 0.0208 | Test Loss: 0.0200\n",
            "[ResNet18] Epoch 8 | Train Loss: 0.0193 | Test Loss: 0.0189\n",
            "[ResNet18] Epoch 9 | Train Loss: 0.0182 | Test Loss: 0.0177\n",
            "[ResNet18] Epoch 10 | Train Loss: 0.0173 | Test Loss: 0.0173\n",
            "[ResNet18] Epoch 11 | Train Loss: 0.0167 | Test Loss: 0.0168\n",
            "[ResNet18] Epoch 12 | Train Loss: 0.0161 | Test Loss: 0.0165\n",
            "[ResNet18] Epoch 13 | Train Loss: 0.0157 | Test Loss: 0.0161\n",
            "[ResNet18] Epoch 14 | Train Loss: 0.0153 | Test Loss: 0.0158\n",
            "[ResNet18] Epoch 15 | Train Loss: 0.0150 | Test Loss: 0.0156\n",
            "[ResNet18] Epoch 16 | Train Loss: 0.0146 | Test Loss: 0.0156\n",
            "[ResNet18] Epoch 17 | Train Loss: 0.0143 | Test Loss: 0.0151\n",
            "[ResNet18] Epoch 18 | Train Loss: 0.0140 | Test Loss: 0.0150\n",
            "[ResNet18] Epoch 19 | Train Loss: 0.0137 | Test Loss: 0.0153\n",
            "[ResNet18] Epoch 20 | Train Loss: 0.0136 | Test Loss: 0.0151\n",
            "[ResNet18] Epoch 21 | Train Loss: 0.0133 | Test Loss: 0.0147\n",
            "[ResNet18] Epoch 22 | Train Loss: 0.0132 | Test Loss: 0.0144\n",
            "[ResNet18] Epoch 23 | Train Loss: 0.0129 | Test Loss: 0.0145\n",
            "[ResNet18] Epoch 24 | Train Loss: 0.0126 | Test Loss: 0.0143\n",
            "[ResNet18] Epoch 25 | Train Loss: 0.0122 | Test Loss: 0.0140\n",
            "[ResNet18] Epoch 26 | Train Loss: 0.0121 | Test Loss: 0.0140\n",
            "[ResNet18] Epoch 27 | Train Loss: 0.0119 | Test Loss: 0.0142\n",
            "[ResNet18] Epoch 28 | Train Loss: 0.0116 | Test Loss: 0.0139\n",
            "[ResNet18] Epoch 29 | Train Loss: 0.0116 | Test Loss: 0.0136\n",
            "[ResNet18] Epoch 30 | Train Loss: 0.0113 | Test Loss: 0.0134\n",
            "[ResNet18] Epoch 31 | Train Loss: 0.0112 | Test Loss: 0.0134\n",
            "[ResNet18] Epoch 32 | Train Loss: 0.0111 | Test Loss: 0.0135\n",
            "[ResNet18] Epoch 33 | Train Loss: 0.0109 | Test Loss: 0.0136\n",
            "[ResNet18] Epoch 34 | Train Loss: 0.0108 | Test Loss: 0.0135\n",
            "[ResNet18] Epoch 35 | Train Loss: 0.0107 | Test Loss: 0.0135\n",
            "[ResNet18] Epoch 36 | Train Loss: 0.0104 | Test Loss: 0.0131\n",
            "[ResNet18] Epoch 37 | Train Loss: 0.0104 | Test Loss: 0.0134\n",
            "[ResNet18] Epoch 38 | Train Loss: 0.0102 | Test Loss: 0.0130\n",
            "[ResNet18] Epoch 39 | Train Loss: 0.0101 | Test Loss: 0.0134\n",
            "[ResNet18] Epoch 40 | Train Loss: 0.0100 | Test Loss: 0.0130\n",
            "[ResNet18] Epoch 41 | Train Loss: 0.0101 | Test Loss: 0.0130\n",
            "[ResNet18] Epoch 42 | Train Loss: 0.0099 | Test Loss: 0.0130\n",
            "[ResNet18] Epoch 43 | Train Loss: 0.0099 | Test Loss: 0.0130\n",
            "[ResNet18] Epoch 44 | Train Loss: 0.0097 | Test Loss: 0.0129\n",
            "[ResNet18] Epoch 45 | Train Loss: 0.0095 | Test Loss: 0.0128\n",
            "[ResNet18] Epoch 46 | Train Loss: 0.0094 | Test Loss: 0.0132\n",
            "[ResNet18] Epoch 47 | Train Loss: 0.0093 | Test Loss: 0.0127\n",
            "[ResNet18] Epoch 48 | Train Loss: 0.0092 | Test Loss: 0.0129\n",
            "[ResNet18] Epoch 49 | Train Loss: 0.0091 | Test Loss: 0.0132\n",
            "[ResNet18] Epoch 50 | Train Loss: 0.0092 | Test Loss: 0.0128\n"
          ]
        }
      ]
    },
    {
      "cell_type": "markdown",
      "metadata": {
        "id": "WVDWBwv6Cu8V"
      },
      "source": [
        "## D. Evaluating Your Trained Model"
      ]
    },
    {
      "cell_type": "markdown",
      "metadata": {
        "id": "uEztHBDjCu8V"
      },
      "source": [
        "### Load Trained Model and Evaluate"
      ]
    },
    {
      "cell_type": "markdown",
      "metadata": {
        "id": "pjmYxAJnxc6t"
      },
      "source": [
        "### Visualizing model performance"
      ]
    },
    {
      "cell_type": "code",
      "source": [
        "# ✅ Compare baseline, aug, mild aug, and pretrained ResNet AE\n",
        "plt.figure(figsize=(10, 6))\n",
        "plt.plot(test_losses, label='Test Loss (Baseline)')\n",
        "plt.plot(test_losses_aug, label='Test Loss (Augmented)')\n",
        "plt.plot(test_losses_resnet, label='Test Loss (ResNet18 AE)')\n",
        "plt.plot(test_losses_resnet_attempt4, label='Test Loss (ResNet18 AE Attempt 4)')\n",
        "\n",
        "plt.xlabel(\"Epoch\")\n",
        "plt.ylabel(\"Reconstruction Loss\")\n",
        "plt.title(\"Test Loss Comparison\")\n",
        "plt.legend()\n",
        "plt.grid(True)\n",
        "plt.show()"
      ],
      "metadata": {
        "colab": {
          "base_uri": "https://localhost:8080/",
          "height": 564
        },
        "id": "4I2Gy6kf3j7l",
        "outputId": "afa0788b-cc2c-4212-a6c9-71542dfdd768"
      },
      "execution_count": 13,
      "outputs": [
        {
          "output_type": "display_data",
          "data": {
            "text/plain": [
              "<Figure size 1000x600 with 1 Axes>"
            ],
            "image/png": "[encoded data removed]"
          },
          "metadata": {}
        }
      ]
    },
    {
      "cell_type": "code",
      "source": [
        "# Compute test accuracy for all models using fixed threshold\n",
        "from sklearn.metrics import accuracy_score\n",
        "import torch.nn.functional as F\n",
        "\n",
        "# Create binary ground truth (1 = anomaly, 0 = normal) from test path structure\n",
        "y_true = [0 if '/good/' in path else 1 for path in test_paths]\n",
        "\n",
        "def compute_accuracy(model, threshold, name=\"Model\"):\n",
        "    model.eval()\n",
        "    scores = []\n",
        "    with torch.no_grad():\n",
        "        for batch in test_loader:\n",
        "            imgs = batch[0].to(device)\n",
        "            outputs = model(imgs)\n",
        "            loss = F.mse_loss(outputs, imgs, reduction='none')\n",
        "            loss_per_image = loss.view(loss.size(0), -1).mean(dim=1)\n",
        "            scores.extend(loss_per_image.cpu().numpy())\n",
        "\n",
        "    y_pred = [1 if s > threshold else 0 for s in scores]\n",
        "    acc = accuracy_score(y_true, y_pred)\n",
        "    print(f\"{name} Accuracy (threshold={threshold:.4f}): {acc*100:.2f}%\")\n",
        "    return acc\n",
        "\n",
        "# Threshold from baseline\n",
        "baseline_scores = []\n",
        "model_attempt1.eval()\n",
        "with torch.no_grad():\n",
        "    for batch in test_loader:\n",
        "        imgs = batch[0].to(device)\n",
        "        outputs = model_attempt1(imgs)\n",
        "        loss = F.mse_loss(outputs, imgs, reduction='none')\n",
        "        loss_per_image = loss.view(loss.size(0), -1).mean(dim=1)\n",
        "        baseline_scores.extend(loss_per_image.cpu().numpy())\n",
        "\n",
        "baseline_scores = np.array(baseline_scores)\n",
        "threshold = baseline_scores.mean() + 2 * baseline_scores.std()\n",
        "\n",
        "# Compute accuracy for all models\n",
        "acc1 = compute_accuracy(model_attempt1, threshold, \"Baseline\")\n",
        "acc2 = compute_accuracy(model_attempt2, threshold, \"Augmented\")\n",
        "acc3 = compute_accuracy(model_attempt3, threshold, \"ResNet18 AE\")\n",
        "acc4 = compute_accuracy(model_attempt4, threshold, \"ResNet18 + High LR\")"
      ],
      "metadata": {
        "colab": {
          "base_uri": "https://localhost:8080/"
        },
        "id": "rGwakSxKHL6I",
        "outputId": "89111ae5-3aa2-4c5c-bdd3-936ff5305f5c"
      },
      "execution_count": 15,
      "outputs": [
        {
          "output_type": "stream",
          "name": "stdout",
          "text": [
            "Baseline Accuracy (threshold=0.0099): 40.00%\n",
            "Augmented Accuracy (threshold=0.0099): 42.67%\n",
            "ResNet18 AE Accuracy (threshold=0.0099): 64.67%\n",
            "ResNet18 + High LR Accuracy (threshold=0.0099): 68.67%\n"
          ]
        }
      ]
    }
  ],
  "metadata": {
    "accelerator": "GPU",
    "colab": {
      "gpuType": "T4",
      "provenance": []
    },
    "kernelspec": {
      "display_name": "Python 3 (ipykernel)",
      "language": "python",
      "name": "python3"
    },
    "language_info": {
      "codemirror_mode": {
        "name": "ipython",
        "version": 3
      },
      "file_extension": ".py",
      "mimetype": "text/x-python",
      "name": "python",
      "nbconvert_exporter": "python",
      "pygments_lexer": "ipython3",
      "version": "3.8.13"
    }
  },
  "nbformat": 4,
  "nbformat_minor": 0
}